{
 "cells": [
  {
   "cell_type": "code",
   "execution_count": 31,
   "source": [
    "import numpy as np\n",
    "import matplotlib.pyplot as plt"
   ],
   "outputs": [],
   "metadata": {}
  },
  {
   "cell_type": "code",
   "execution_count": 32,
   "source": [
    "class ChessBoard:\n",
    "    def __init__(self) :\n",
    "        self.grid=np.zeros((8,8,3))\n",
    "        div=1\n",
    "        for col in range(8):\n",
    "            for row in range(8):\n",
    "                div=0 if div else 1\n",
    "                if row % 2 == div and col % 2 == div:\n",
    "                    self.grid[col][row]=np.array((1,1,1))\n",
    "                else:\n",
    "                    self.grid[col][row]=np.array((0,0,0))\n",
    "    red=()\n",
    "    blue=()           \n",
    "    def add_red(self,col,row):\n",
    "        self.grid[col][row]=np.array((1,.2,0))\n",
    "        self.red=(col,row)\n",
    "    \n",
    "    def add_blue(self,col,row):\n",
    "        self.grid[col][row]=np.array((0,1,1))\n",
    "        self.blue=(col,row)\n",
    "        \n",
    "    def is_under_attack(self):\n",
    "        if self.red[0]==self.blue[0]:\n",
    "            return True\n",
    "        elif self.red[1]==self.blue[1]:\n",
    "            return True\n",
    "        elif abs(self.red[0]-self.blue[0])==abs(self.red[1]-self.blue[1]):\n",
    "            return True\n",
    "        else :\n",
    "            return False\n",
    "    \n",
    "    def render(self):\n",
    "        plt.imshow(self.grid)\n",
    "        \n",
    "    def __str__(self) -> str:\n",
    "       return (f\"Red = {self.red}, Blue = {self.blue} \")\n",
    "            "
   ],
   "outputs": [],
   "metadata": {}
  },
  {
   "cell_type": "code",
   "execution_count": 33,
   "source": [
    "chessboard= ChessBoard()\n",
    "chessboard.render()\n"
   ],
   "outputs": [
    {
     "output_type": "display_data",
     "data": {
      "text/plain": [
       "<Figure size 432x288 with 1 Axes>"
      ],
      "image/png": "[encoded data removed]"
     },
     "metadata": {
      "needs_background": "light"
     }
    }
   ],
   "metadata": {}
  },
  {
   "cell_type": "code",
   "execution_count": 34,
   "source": [
    "chessboard.add_red(1,2)\n",
    "chessboard.add_blue(1,3)\n",
    "chessboard.render()\n",
    "print(chessboard)"
   ],
   "outputs": [
    {
     "output_type": "stream",
     "name": "stdout",
     "text": [
      "Red = (1, 2), Blue = (1, 3) \n"
     ]
    },
    {
     "output_type": "display_data",
     "data": {
      "text/plain": [
       "<Figure size 432x288 with 1 Axes>"
      ],
      "image/png": "[encoded data removed]"
     },
     "metadata": {
      "needs_background": "light"
     }
    }
   ],
   "metadata": {}
  },
  {
   "cell_type": "code",
   "execution_count": 35,
   "source": [
    "def test_under_attack_horizontal():\n",
    "    check_horizontal=ChessBoard()\n",
    "    check_horizontal.add_red(1,1)\n",
    "    check_horizontal.add_blue(1,3)\n",
    "    check_horizontal.render()\n",
    "    assert check_horizontal.is_under_attack()\n",
    "    print('Queen under attack')\n",
    "test_under_attack_horizontal()   "
   ],
   "outputs": [
    {
     "output_type": "stream",
     "name": "stdout",
     "text": [
      "Queen under attack\n"
     ]
    },
    {
     "output_type": "display_data",
     "data": {
      "text/plain": [
       "<Figure size 432x288 with 1 Axes>"
      ],
      "image/png": "[encoded data removed]"
     },
     "metadata": {
      "needs_background": "light"
     }
    }
   ],
   "metadata": {}
  },
  {
   "cell_type": "code",
   "execution_count": 36,
   "source": [
    "def test_under_attack_vertical():\n",
    "    check_vertical=ChessBoard()\n",
    "    check_vertical.add_red(5,1)\n",
    "    check_vertical.add_blue(2,1)\n",
    "    check_vertical.render()\n",
    "    assert check_vertical.is_under_attack()\n",
    "    print('Queen under attack')\n",
    "test_under_attack_vertical() "
   ],
   "outputs": [
    {
     "output_type": "stream",
     "name": "stdout",
     "text": [
      "Queen under attack\n"
     ]
    },
    {
     "output_type": "display_data",
     "data": {
      "text/plain": [
       "<Figure size 432x288 with 1 Axes>"
      ],
      "image/png": "[encoded data removed]"
     },
     "metadata": {
      "needs_background": "light"
     }
    }
   ],
   "metadata": {}
  },
  {
   "cell_type": "code",
   "execution_count": 37,
   "source": [
    "def test_under_attack_diagonal():\n",
    "    check_diagonal=ChessBoard()\n",
    "    check_diagonal.add_red(4,5)\n",
    "    check_diagonal.add_blue(2,3)\n",
    "    check_diagonal.render()\n",
    "    assert check_diagonal.is_under_attack()\n",
    "    print('Queen under attack')\n",
    "test_under_attack_diagonal() "
   ],
   "outputs": [
    {
     "output_type": "stream",
     "name": "stdout",
     "text": [
      "Queen under attack\n"
     ]
    },
    {
     "output_type": "display_data",
     "data": {
      "text/plain": [
       "<Figure size 432x288 with 1 Axes>"
      ],
      "image/png": "[encoded data removed]"
     },
     "metadata": {
      "needs_background": "light"
     }
    }
   ],
   "metadata": {}
  },
  {
   "cell_type": "code",
   "execution_count": 38,
   "source": [
    "def test_not_under_attack():\n",
    "    check=ChessBoard()\n",
    "    check.add_red(6,5)\n",
    "    check.add_blue(0,2)\n",
    "    check.render()\n",
    "    assert not check.is_under_attack()\n",
    "    print('Queen Not under attack')\n",
    "test_not_under_attack()"
   ],
   "outputs": [
    {
     "output_type": "stream",
     "name": "stdout",
     "text": [
      "Queen Not under attack\n"
     ]
    },
    {
     "output_type": "display_data",
     "data": {
      "text/plain": [
       "<Figure size 432x288 with 1 Axes>"
      ],
      "image/png": "[encoded data removed]"
     },
     "metadata": {
      "needs_background": "light"
     }
    }
   ],
   "metadata": {}
  }
 ],
 "metadata": {
  "orig_nbformat": 4,
  "language_info": {
   "name": "python",
   "version": "3.9.6",
   "mimetype": "text/x-python",
   "codemirror_mode": {
    "name": "ipython",
    "version": 3
   },
   "pygments_lexer": "ipython3",
   "nbconvert_exporter": "python",
   "file_extension": ".py"
  },
  "kernelspec": {
   "name": "python3",
   "display_name": "Python 3.9.6 64-bit ('.venv': poetry)"
  },
  "interpreter": {
   "hash": "fee89501e227d2be7a0f441e6141280dec9eb8d024e6675bcb442fa4ea03be84"
  }
 },
 "nbformat": 4,
 "nbformat_minor": 2
}